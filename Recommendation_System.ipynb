{
  "nbformat": 4,
  "nbformat_minor": 0,
  "metadata": {
    "colab": {
      "provenance": []
    },
    "kernelspec": {
      "name": "python3",
      "display_name": "Python 3"
    },
    "language_info": {
      "name": "python"
    },
    "accelerator": "GPU",
    "widgets": {
      "application/vnd.jupyter.widget-state+json": {
        "77ee680da64d47bf98c4d8b0bc68e903": {
          "model_module": "@jupyter-widgets/controls",
          "model_name": "HBoxModel",
          "model_module_version": "1.5.0",
          "state": {
            "_dom_classes": [],
            "_model_module": "@jupyter-widgets/controls",
            "_model_module_version": "1.5.0",
            "_model_name": "HBoxModel",
            "_view_count": null,
            "_view_module": "@jupyter-widgets/controls",
            "_view_module_version": "1.5.0",
            "_view_name": "HBoxView",
            "box_style": "",
            "children": [
              "IPY_MODEL_1c08afcaccb242e2a4fdcc8bec45f79a",
              "IPY_MODEL_3e173692cad946ecab5d925301a92880",
              "IPY_MODEL_c5b97b9b75eb468394d4260d06d561a0"
            ],
            "layout": "IPY_MODEL_1ab54c29a93944aca9ee217f1a4f828e"
          }
        },
        "1c08afcaccb242e2a4fdcc8bec45f79a": {
          "model_module": "@jupyter-widgets/controls",
          "model_name": "HTMLModel",
          "model_module_version": "1.5.0",
          "state": {
            "_dom_classes": [],
            "_model_module": "@jupyter-widgets/controls",
            "_model_module_version": "1.5.0",
            "_model_name": "HTMLModel",
            "_view_count": null,
            "_view_module": "@jupyter-widgets/controls",
            "_view_module_version": "1.5.0",
            "_view_name": "HTMLView",
            "description": "",
            "description_tooltip": null,
            "layout": "IPY_MODEL_f21c1f4e49914492992c5b28a9623302",
            "placeholder": "​",
            "style": "IPY_MODEL_4831bea3db2c43dbb804d07ac8ff07aa",
            "value": "100%"
          }
        },
        "3e173692cad946ecab5d925301a92880": {
          "model_module": "@jupyter-widgets/controls",
          "model_name": "FloatProgressModel",
          "model_module_version": "1.5.0",
          "state": {
            "_dom_classes": [],
            "_model_module": "@jupyter-widgets/controls",
            "_model_module_version": "1.5.0",
            "_model_name": "FloatProgressModel",
            "_view_count": null,
            "_view_module": "@jupyter-widgets/controls",
            "_view_module_version": "1.5.0",
            "_view_name": "ProgressView",
            "bar_style": "success",
            "description": "",
            "description_tooltip": null,
            "layout": "IPY_MODEL_d4dee21f413d41f3934a898e83bd6060",
            "max": 128,
            "min": 0,
            "orientation": "horizontal",
            "style": "IPY_MODEL_a7780393922d43a1ad2f2df56ce5624c",
            "value": 128
          }
        },
        "c5b97b9b75eb468394d4260d06d561a0": {
          "model_module": "@jupyter-widgets/controls",
          "model_name": "HTMLModel",
          "model_module_version": "1.5.0",
          "state": {
            "_dom_classes": [],
            "_model_module": "@jupyter-widgets/controls",
            "_model_module_version": "1.5.0",
            "_model_name": "HTMLModel",
            "_view_count": null,
            "_view_module": "@jupyter-widgets/controls",
            "_view_module_version": "1.5.0",
            "_view_name": "HTMLView",
            "description": "",
            "description_tooltip": null,
            "layout": "IPY_MODEL_9abf2198a18744539896d36419262d03",
            "placeholder": "​",
            "style": "IPY_MODEL_2d164ff0d38943a6853ea0fbb31339ed",
            "value": " 128/128 [03:43&lt;00:00,  1.75s/it]"
          }
        },
        "1ab54c29a93944aca9ee217f1a4f828e": {
          "model_module": "@jupyter-widgets/base",
          "model_name": "LayoutModel",
          "model_module_version": "1.2.0",
          "state": {
            "_model_module": "@jupyter-widgets/base",
            "_model_module_version": "1.2.0",
            "_model_name": "LayoutModel",
            "_view_count": null,
            "_view_module": "@jupyter-widgets/base",
            "_view_module_version": "1.2.0",
            "_view_name": "LayoutView",
            "align_content": null,
            "align_items": null,
            "align_self": null,
            "border": null,
            "bottom": null,
            "display": null,
            "flex": null,
            "flex_flow": null,
            "grid_area": null,
            "grid_auto_columns": null,
            "grid_auto_flow": null,
            "grid_auto_rows": null,
            "grid_column": null,
            "grid_gap": null,
            "grid_row": null,
            "grid_template_areas": null,
            "grid_template_columns": null,
            "grid_template_rows": null,
            "height": null,
            "justify_content": null,
            "justify_items": null,
            "left": null,
            "margin": null,
            "max_height": null,
            "max_width": null,
            "min_height": null,
            "min_width": null,
            "object_fit": null,
            "object_position": null,
            "order": null,
            "overflow": null,
            "overflow_x": null,
            "overflow_y": null,
            "padding": null,
            "right": null,
            "top": null,
            "visibility": null,
            "width": null
          }
        },
        "f21c1f4e49914492992c5b28a9623302": {
          "model_module": "@jupyter-widgets/base",
          "model_name": "LayoutModel",
          "model_module_version": "1.2.0",
          "state": {
            "_model_module": "@jupyter-widgets/base",
            "_model_module_version": "1.2.0",
            "_model_name": "LayoutModel",
            "_view_count": null,
            "_view_module": "@jupyter-widgets/base",
            "_view_module_version": "1.2.0",
            "_view_name": "LayoutView",
            "align_content": null,
            "align_items": null,
            "align_self": null,
            "border": null,
            "bottom": null,
            "display": null,
            "flex": null,
            "flex_flow": null,
            "grid_area": null,
            "grid_auto_columns": null,
            "grid_auto_flow": null,
            "grid_auto_rows": null,
            "grid_column": null,
            "grid_gap": null,
            "grid_row": null,
            "grid_template_areas": null,
            "grid_template_columns": null,
            "grid_template_rows": null,
            "height": null,
            "justify_content": null,
            "justify_items": null,
            "left": null,
            "margin": null,
            "max_height": null,
            "max_width": null,
            "min_height": null,
            "min_width": null,
            "object_fit": null,
            "object_position": null,
            "order": null,
            "overflow": null,
            "overflow_x": null,
            "overflow_y": null,
            "padding": null,
            "right": null,
            "top": null,
            "visibility": null,
            "width": null
          }
        },
        "4831bea3db2c43dbb804d07ac8ff07aa": {
          "model_module": "@jupyter-widgets/controls",
          "model_name": "DescriptionStyleModel",
          "model_module_version": "1.5.0",
          "state": {
            "_model_module": "@jupyter-widgets/controls",
            "_model_module_version": "1.5.0",
            "_model_name": "DescriptionStyleModel",
            "_view_count": null,
            "_view_module": "@jupyter-widgets/base",
            "_view_module_version": "1.2.0",
            "_view_name": "StyleView",
            "description_width": ""
          }
        },
        "d4dee21f413d41f3934a898e83bd6060": {
          "model_module": "@jupyter-widgets/base",
          "model_name": "LayoutModel",
          "model_module_version": "1.2.0",
          "state": {
            "_model_module": "@jupyter-widgets/base",
            "_model_module_version": "1.2.0",
            "_model_name": "LayoutModel",
            "_view_count": null,
            "_view_module": "@jupyter-widgets/base",
            "_view_module_version": "1.2.0",
            "_view_name": "LayoutView",
            "align_content": null,
            "align_items": null,
            "align_self": null,
            "border": null,
            "bottom": null,
            "display": null,
            "flex": null,
            "flex_flow": null,
            "grid_area": null,
            "grid_auto_columns": null,
            "grid_auto_flow": null,
            "grid_auto_rows": null,
            "grid_column": null,
            "grid_gap": null,
            "grid_row": null,
            "grid_template_areas": null,
            "grid_template_columns": null,
            "grid_template_rows": null,
            "height": null,
            "justify_content": null,
            "justify_items": null,
            "left": null,
            "margin": null,
            "max_height": null,
            "max_width": null,
            "min_height": null,
            "min_width": null,
            "object_fit": null,
            "object_position": null,
            "order": null,
            "overflow": null,
            "overflow_x": null,
            "overflow_y": null,
            "padding": null,
            "right": null,
            "top": null,
            "visibility": null,
            "width": null
          }
        },
        "a7780393922d43a1ad2f2df56ce5624c": {
          "model_module": "@jupyter-widgets/controls",
          "model_name": "ProgressStyleModel",
          "model_module_version": "1.5.0",
          "state": {
            "_model_module": "@jupyter-widgets/controls",
            "_model_module_version": "1.5.0",
            "_model_name": "ProgressStyleModel",
            "_view_count": null,
            "_view_module": "@jupyter-widgets/base",
            "_view_module_version": "1.2.0",
            "_view_name": "StyleView",
            "bar_color": null,
            "description_width": ""
          }
        },
        "9abf2198a18744539896d36419262d03": {
          "model_module": "@jupyter-widgets/base",
          "model_name": "LayoutModel",
          "model_module_version": "1.2.0",
          "state": {
            "_model_module": "@jupyter-widgets/base",
            "_model_module_version": "1.2.0",
            "_model_name": "LayoutModel",
            "_view_count": null,
            "_view_module": "@jupyter-widgets/base",
            "_view_module_version": "1.2.0",
            "_view_name": "LayoutView",
            "align_content": null,
            "align_items": null,
            "align_self": null,
            "border": null,
            "bottom": null,
            "display": null,
            "flex": null,
            "flex_flow": null,
            "grid_area": null,
            "grid_auto_columns": null,
            "grid_auto_flow": null,
            "grid_auto_rows": null,
            "grid_column": null,
            "grid_gap": null,
            "grid_row": null,
            "grid_template_areas": null,
            "grid_template_columns": null,
            "grid_template_rows": null,
            "height": null,
            "justify_content": null,
            "justify_items": null,
            "left": null,
            "margin": null,
            "max_height": null,
            "max_width": null,
            "min_height": null,
            "min_width": null,
            "object_fit": null,
            "object_position": null,
            "order": null,
            "overflow": null,
            "overflow_x": null,
            "overflow_y": null,
            "padding": null,
            "right": null,
            "top": null,
            "visibility": null,
            "width": null
          }
        },
        "2d164ff0d38943a6853ea0fbb31339ed": {
          "model_module": "@jupyter-widgets/controls",
          "model_name": "DescriptionStyleModel",
          "model_module_version": "1.5.0",
          "state": {
            "_model_module": "@jupyter-widgets/controls",
            "_model_module_version": "1.5.0",
            "_model_name": "DescriptionStyleModel",
            "_view_count": null,
            "_view_module": "@jupyter-widgets/base",
            "_view_module_version": "1.2.0",
            "_view_name": "StyleView",
            "description_width": ""
          }
        }
      }
    }
  },
  "cells": [
    {
      "cell_type": "code",
      "metadata": {
        "colab": {
          "base_uri": "https://localhost:8080/"
        },
        "id": "NvcMQzFckjXd",
        "outputId": "c52b4021-f241-4d7b-8ec3-4cdbf5033417"
      },
      "source": [
        "# Data Citation:\n",
        "# F. Maxwell Harper and Joseph A. Konstan. 2015. The MovieLens Datasets: History and Context. ACM Transactions on\n",
        "# Interactive Intelligent Systems (TiiS) 5, 4: 19:1–19:19. <https://doi.org/10.1145/2827872>\n",
        "\n",
        "! curl http://files.grouplens.org/datasets/movielens/ml-latest-small.zip -o ml-latest-small.zip"
      ],
      "execution_count": null,
      "outputs": [
        {
          "output_type": "stream",
          "name": "stdout",
          "text": [
            "  % Total    % Received % Xferd  Average Speed   Time    Time     Time  Current\n",
            "                                 Dload  Upload   Total   Spent    Left  Speed\n",
            "100  955k  100  955k    0     0   442k      0  0:00:02  0:00:02 --:--:--  442k\n"
          ]
        }
      ]
    },
    {
      "cell_type": "code",
      "metadata": {
        "id": "68BdqtQikvVE"
      },
      "source": [
        "import zipfile\n",
        "with zipfile.ZipFile('ml-latest-small.zip', 'r') as zip_ref:\n",
        "    zip_ref.extractall('data')"
      ],
      "execution_count": null,
      "outputs": []
    },
    {
      "cell_type": "code",
      "metadata": {
        "id": "OmO7jmrpkvZf"
      },
      "source": [
        "# import the dataset\n",
        "import pandas as pd\n",
        "movies_df = pd.read_csv('data/ml-latest-small/movies.csv')\n",
        "ratings_df = pd.read_csv('data/ml-latest-small/ratings.csv')"
      ],
      "execution_count": null,
      "outputs": []
    },
    {
      "cell_type": "code",
      "metadata": {
        "id": "Q-KRTGaskvdn"
      },
      "source": [
        "print('The dimensions of movies dataframe are:', movies_df.shape,'\\nThe dimensions of ratings dataframe are:', ratings_df.shape)"
      ],
      "execution_count": null,
      "outputs": []
    },
    {
      "cell_type": "code",
      "metadata": {
        "id": "ALPeuAiBk0mM"
      },
      "source": [
        "# Checking movies_df\n",
        "movies_df.head()"
      ],
      "execution_count": null,
      "outputs": []
    },
    {
      "cell_type": "code",
      "metadata": {
        "id": "KzPoqkWbk0oh"
      },
      "source": [
        "# Checking ratings_df\n",
        "ratings_df.head()"
      ],
      "execution_count": null,
      "outputs": []
    },
    {
      "cell_type": "code",
      "metadata": {
        "colab": {
          "base_uri": "https://localhost:8080/"
        },
        "id": "2TUaWt96k0q7",
        "outputId": "0c38174c-3c09-4ef4-94e3-e4eaa9c87500"
      },
      "source": [
        "# Movie ID to movie name mapping\n",
        "movie_names = movies_df.set_index('movieId')['title'].to_dict()\n",
        "n_users = len(ratings_df.userId.unique())\n",
        "n_items = len(ratings_df.movieId.unique())\n",
        "print(\"Number of unique users:\", n_users)\n",
        "print(\"Number of unique movies:\", n_items)\n",
        "print(\"The full rating matrix will have:\", n_users*n_items, 'elements.')\n",
        "print('----------')\n",
        "print(\"Number of ratings:\", len(ratings_df))\n",
        "print(\"Therefore: \", len(ratings_df) / (n_users*n_items) * 100, '% of the matrix is filled.')\n",
        "print(\"We have an incredibly sparse matrix to work with here.\")\n",
        "print(\"And... as you can imagine, as the number of users and products grow, the number of elements will increase by n*2\")\n",
        "print(\"You are going to need a lot of memory to work with global scale... storing a full matrix in memory would be a challenge.\")\n",
        "print(\"One advantage here is that matrix factorization can realize the rating matrix implicitly, thus we don't need all the data\")"
      ],
      "execution_count": null,
      "outputs": [
        {
          "output_type": "stream",
          "name": "stdout",
          "text": [
            "Number of unique users: 610\n",
            "Number of unique movies: 9724\n",
            "The full rating matrix will have: 5931640 elements.\n",
            "----------\n",
            "Number of ratings: 100836\n",
            "Therefore:  1.6999683055613624 % of the matrix is filled.\n",
            "We have an incredibly sparse matrix to work with here.\n",
            "And... as you can imagine, as the number of users and products grow, the number of elements will increase by n*2\n",
            "You are going to need a lot of memory to work with global scale... storing a full matrix in memory would be a challenge.\n",
            "One advantage here is that matrix factorization can realize the rating matrix implicitly, thus we don't need all the data\n"
          ]
        }
      ]
    },
    {
      "cell_type": "code",
      "metadata": {
        "id": "YnkTvMsCk0tY"
      },
      "source": [
        "import torch\n",
        "import numpy as np\n",
        "from torch.autograd import Variable\n",
        "from tqdm import tqdm_notebook as tqdm\n",
        "\n",
        "class MatrixFactorization(torch.nn.Module):\n",
        "    def __init__(self, n_users, n_items, n_factors=20):\n",
        "        super().__init__()\n",
        "        # create user embeddings\n",
        "        self.user_factors = torch.nn.Embedding(n_users, n_factors) # think of this as a lookup table for the input.\n",
        "        # create item embeddings\n",
        "        self.item_factors = torch.nn.Embedding(n_items, n_factors) # think of this as a lookup table for the input.\n",
        "        self.user_factors.weight.data.uniform_(0, 0.05)\n",
        "        self.item_factors.weight.data.uniform_(0, 0.05)\n",
        "\n",
        "    def forward(self, data):\n",
        "        # matrix multiplication\n",
        "        users, items = data[:,0], data[:,1]\n",
        "        return (self.user_factors(users)*self.item_factors(items)).sum(1)\n",
        "    # def forward(self, user, item):\n",
        "    # \t# matrix multiplication\n",
        "    #     return (self.user_factors(user)*self.item_factors(item)).sum(1)\n",
        "\n",
        "    def predict(self, user, item):\n",
        "        return self.forward(user, item)"
      ],
      "execution_count": null,
      "outputs": []
    },
    {
      "cell_type": "code",
      "metadata": {
        "id": "LTlGvz7sk0v2"
      },
      "source": [
        "# Creating the dataloader (necessary for PyTorch)\n",
        "from torch.utils.data.dataset import Dataset\n",
        "from torch.utils.data import DataLoader # package that helps transform your data to machine learning readiness\n",
        "\n",
        "# Note: This isn't 'good' practice, in a MLops sense but we'll roll with this since the data is already loaded in memory.\n",
        "class Loader(Dataset):\n",
        "    def __init__(self):\n",
        "        self.ratings = ratings_df.copy()\n",
        "\n",
        "        # Extract all user IDs and movie IDs\n",
        "        users = ratings_df.userId.unique()\n",
        "        movies = ratings_df.movieId.unique()\n",
        "\n",
        "        #--- Producing new continuous IDs for users and movies ---\n",
        "\n",
        "        # Unique values : index\n",
        "        self.userid2idx = {o:i for i,o in enumerate(users)}\n",
        "        self.movieid2idx = {o:i for i,o in enumerate(movies)}\n",
        "\n",
        "        # Obtained continuous ID for users and movies\n",
        "        self.idx2userid = {i:o for o,i in self.userid2idx.items()}\n",
        "        self.idx2movieid = {i:o for o,i in self.movieid2idx.items()}\n",
        "\n",
        "        # return the id from the indexed values as noted in the lambda function down below.\n",
        "        self.ratings.movieId = ratings_df.movieId.apply(lambda x: self.movieid2idx[x])\n",
        "        self.ratings.userId = ratings_df.userId.apply(lambda x: self.userid2idx[x])\n",
        "\n",
        "\n",
        "        self.x = self.ratings.drop(['rating', 'timestamp'], axis=1).values\n",
        "        self.y = self.ratings['rating'].values\n",
        "        self.x, self.y = torch.tensor(self.x), torch.tensor(self.y) # Transforms the data to tensors (ready for torch models.)\n",
        "\n",
        "    def __getitem__(self, index):\n",
        "        return (self.x[index], self.y[index])\n",
        "\n",
        "    def __len__(self):\n",
        "        return len(self.ratings)"
      ],
      "execution_count": null,
      "outputs": []
    },
    {
      "cell_type": "code",
      "metadata": {
        "id": "J6MK3Ymmk0yi"
      },
      "source": [
        "num_epochs = 128\n",
        "cuda = torch.cuda.is_available()\n",
        "\n",
        "print(\"Is running on GPU:\", cuda)\n",
        "\n",
        "model = MatrixFactorization(n_users, n_items, n_factors=8)\n",
        "print(model)\n",
        "for name, param in model.named_parameters():\n",
        "    if param.requires_grad:\n",
        "        print(name, param.data)\n",
        "# GPU enable if you have a GPU...\n",
        "if cuda:\n",
        "    model = model.cuda()\n",
        "\n",
        "# MSE loss\n",
        "loss_fn = torch.nn.MSELoss()\n",
        "\n",
        "# ADAM optimizier\n",
        "optimizer = torch.optim.Adam(model.parameters(), lr=1e-3)\n",
        "\n",
        "# Train data\n",
        "train_set = Loader()\n",
        "train_loader = DataLoader(train_set, 128, shuffle=True)"
      ],
      "execution_count": null,
      "outputs": []
    },
    {
      "cell_type": "code",
      "metadata": {
        "colab": {
          "base_uri": "https://localhost:8080/",
          "height": 1000,
          "referenced_widgets": [
            "77ee680da64d47bf98c4d8b0bc68e903",
            "1c08afcaccb242e2a4fdcc8bec45f79a",
            "3e173692cad946ecab5d925301a92880",
            "c5b97b9b75eb468394d4260d06d561a0",
            "1ab54c29a93944aca9ee217f1a4f828e",
            "f21c1f4e49914492992c5b28a9623302",
            "4831bea3db2c43dbb804d07ac8ff07aa",
            "d4dee21f413d41f3934a898e83bd6060",
            "a7780393922d43a1ad2f2df56ce5624c",
            "9abf2198a18744539896d36419262d03",
            "2d164ff0d38943a6853ea0fbb31339ed"
          ]
        },
        "id": "8fIDIdStk000",
        "outputId": "fa84188f-4f4e-470c-f358-eaac99b93d8f"
      },
      "source": [
        "for it in tqdm(range(num_epochs)):\n",
        "    losses = []\n",
        "    for x, y in train_loader:\n",
        "         if cuda:\n",
        "            x, y = x.cuda(), y.cuda()\n",
        "            optimizer.zero_grad()\n",
        "            outputs = model(x)\n",
        "            loss = loss_fn(outputs.squeeze(), y.type(torch.float32))\n",
        "            losses.append(loss.item())\n",
        "            loss.backward()\n",
        "            optimizer.step()\n",
        "    print(\"iter #{}\".format(it), \"Loss:\", sum(losses) / len(losses))"
      ],
      "execution_count": null,
      "outputs": [
        {
          "metadata": {
            "tags": null
          },
          "name": "stderr",
          "output_type": "stream",
          "text": [
            "<ipython-input-11-dad152416852>:1: TqdmDeprecationWarning: This function will be removed in tqdm==5.0.0\n",
            "Please use `tqdm.notebook.tqdm` instead of `tqdm.tqdm_notebook`\n",
            "  for it in tqdm(range(num_epochs)):\n"
          ]
        },
        {
          "data": {
            "application/vnd.jupyter.widget-view+json": {
              "model_id": "77ee680da64d47bf98c4d8b0bc68e903",
              "version_major": 2,
              "version_minor": 0
            },
            "text/plain": [
              "  0%|          | 0/128 [00:00<?, ?it/s]"
            ]
          },
          "metadata": {},
          "output_type": "display_data"
        },
        {
          "output_type": "stream",
          "name": "stdout",
          "text": [
            "iter #0 Loss: 11.071608392115172\n",
            "iter #1 Loss: 4.748986141028138\n",
            "iter #2 Loss: 2.4787926032458465\n",
            "iter #3 Loss: 1.7227501633203575\n",
            "iter #4 Loss: 1.346457090777189\n",
            "iter #5 Loss: 1.1286387574400394\n",
            "iter #6 Loss: 0.9912383927760391\n",
            "iter #7 Loss: 0.8998389748601139\n",
            "iter #8 Loss: 0.836988726091869\n",
            "iter #9 Loss: 0.792124355958803\n",
            "iter #10 Loss: 0.7592082597731333\n",
            "iter #11 Loss: 0.7343671414906603\n",
            "iter #12 Loss: 0.7160692223664468\n",
            "iter #13 Loss: 0.7011939089007789\n",
            "iter #14 Loss: 0.6901669580924329\n",
            "iter #15 Loss: 0.6817827623734619\n",
            "iter #16 Loss: 0.6750307159148498\n",
            "iter #17 Loss: 0.6695800366891822\n",
            "iter #18 Loss: 0.6657370369370819\n",
            "iter #19 Loss: 0.6628605643202206\n",
            "iter #20 Loss: 0.6606594847921793\n",
            "iter #21 Loss: 0.6589799897395415\n",
            "iter #22 Loss: 0.6578223477235905\n",
            "iter #23 Loss: 0.6566654328011015\n",
            "iter #24 Loss: 0.6563512334212434\n",
            "iter #25 Loss: 0.6554416160141756\n",
            "iter #26 Loss: 0.6546999430142079\n",
            "iter #27 Loss: 0.6541044364877159\n",
            "iter #28 Loss: 0.6532314816858563\n",
            "iter #29 Loss: 0.652160364283523\n",
            "iter #30 Loss: 0.6510317448885913\n",
            "iter #31 Loss: 0.6497568207495104\n",
            "iter #32 Loss: 0.6482850706516788\n",
            "iter #33 Loss: 0.6461665744557599\n",
            "iter #34 Loss: 0.6435541016650079\n",
            "iter #35 Loss: 0.6406973088680185\n",
            "iter #36 Loss: 0.6373263015435432\n",
            "iter #37 Loss: 0.6328218519914574\n",
            "iter #38 Loss: 0.6275985923212797\n",
            "iter #39 Loss: 0.6216878119837209\n",
            "iter #40 Loss: 0.6148913609346157\n",
            "iter #41 Loss: 0.6071945096408655\n",
            "iter #42 Loss: 0.5980984643858096\n",
            "iter #43 Loss: 0.588955073754497\n",
            "iter #44 Loss: 0.5788286316969673\n",
            "iter #45 Loss: 0.5683540415945392\n",
            "iter #46 Loss: 0.5574962045184246\n",
            "iter #47 Loss: 0.5469471722614342\n",
            "iter #48 Loss: 0.5362031852003887\n",
            "iter #49 Loss: 0.525900823626724\n",
            "iter #50 Loss: 0.5159309182675357\n",
            "iter #51 Loss: 0.5064899292845412\n",
            "iter #52 Loss: 0.4973786516767468\n",
            "iter #53 Loss: 0.48911076144972426\n",
            "iter #54 Loss: 0.48108492825690863\n",
            "iter #55 Loss: 0.4738086138658112\n",
            "iter #56 Loss: 0.4666411453470361\n",
            "iter #57 Loss: 0.4601024982666001\n",
            "iter #58 Loss: 0.4537990772482102\n",
            "iter #59 Loss: 0.4475528421589566\n",
            "iter #60 Loss: 0.4423012716062178\n",
            "iter #61 Loss: 0.43707436599253396\n",
            "iter #62 Loss: 0.43199018691548235\n",
            "iter #63 Loss: 0.4273321669227278\n",
            "iter #64 Loss: 0.4229554435436798\n",
            "iter #65 Loss: 0.4187131119598895\n",
            "iter #66 Loss: 0.41471002254691824\n",
            "iter #67 Loss: 0.4109042554639923\n",
            "iter #68 Loss: 0.4070693988182823\n",
            "iter #69 Loss: 0.4038811261732566\n",
            "iter #70 Loss: 0.40052423202598153\n",
            "iter #71 Loss: 0.3974209371103248\n",
            "iter #72 Loss: 0.394487843957498\n",
            "iter #73 Loss: 0.39142330766178024\n",
            "iter #74 Loss: 0.3888413140616441\n",
            "iter #75 Loss: 0.3862867364423529\n",
            "iter #76 Loss: 0.38389893008518944\n",
            "iter #77 Loss: 0.3815065342838389\n",
            "iter #78 Loss: 0.3792994815270005\n",
            "iter #79 Loss: 0.37701441357054083\n",
            "iter #80 Loss: 0.3750796465553003\n",
            "iter #81 Loss: 0.37294448895124616\n",
            "iter #82 Loss: 0.3711258812339475\n",
            "iter #83 Loss: 0.3692141153712563\n",
            "iter #84 Loss: 0.36759227987019544\n",
            "iter #85 Loss: 0.36566028859333943\n",
            "iter #86 Loss: 0.36450875573200625\n",
            "iter #87 Loss: 0.36260483211596606\n",
            "iter #88 Loss: 0.3614318815584715\n",
            "iter #89 Loss: 0.35973785658778273\n",
            "iter #90 Loss: 0.35844622412460103\n",
            "iter #91 Loss: 0.35709192615172586\n",
            "iter #92 Loss: 0.3558836049083526\n",
            "iter #93 Loss: 0.3546768821548992\n",
            "iter #94 Loss: 0.35336508526263505\n",
            "iter #95 Loss: 0.35218563524599605\n",
            "iter #96 Loss: 0.351302553592297\n",
            "iter #97 Loss: 0.35009002382985227\n",
            "iter #98 Loss: 0.3491658440549967\n",
            "iter #99 Loss: 0.34811646999970913\n",
            "iter #100 Loss: 0.3469099832821618\n",
            "iter #101 Loss: 0.3462707888580821\n",
            "iter #102 Loss: 0.345241084449031\n",
            "iter #103 Loss: 0.3444663156864002\n",
            "iter #104 Loss: 0.3436063382642221\n",
            "iter #105 Loss: 0.34279737632891855\n",
            "iter #106 Loss: 0.34188865768122795\n",
            "iter #107 Loss: 0.34100910145694835\n",
            "iter #108 Loss: 0.34031791682473295\n",
            "iter #109 Loss: 0.3397106259569601\n",
            "iter #110 Loss: 0.33902380312911146\n",
            "iter #111 Loss: 0.3381943235996411\n",
            "iter #112 Loss: 0.337367938727443\n",
            "iter #113 Loss: 0.336758303460736\n",
            "iter #114 Loss: 0.33629921802938895\n",
            "iter #115 Loss: 0.3354821888739385\n",
            "iter #116 Loss: 0.3350152633895124\n",
            "iter #117 Loss: 0.33430164840620785\n",
            "iter #118 Loss: 0.33370699555740746\n",
            "iter #119 Loss: 0.3332999345047522\n",
            "iter #120 Loss: 0.3326350890175643\n",
            "iter #121 Loss: 0.3320771919062295\n",
            "iter #122 Loss: 0.3314946133662299\n",
            "iter #123 Loss: 0.3311024506949834\n",
            "iter #124 Loss: 0.33033527014067937\n",
            "iter #125 Loss: 0.3299975443045197\n",
            "iter #126 Loss: 0.3294764558411189\n",
            "iter #127 Loss: 0.32898188730333056\n"
          ]
        }
      ]
    },
    {
      "cell_type": "code",
      "metadata": {
        "id": "zs_GVbSYmhib"
      },
      "source": [
        "# By training the model, we will have tuned latent factors for movies and users.\n",
        "c = 0\n",
        "uw = 0\n",
        "iw = 0\n",
        "for name, param in model.named_parameters():\n",
        "    if param.requires_grad:\n",
        "        print(name, param.data)\n",
        "        if c == 0:\n",
        "          uw = param.data\n",
        "          c +=1\n",
        "        else:\n",
        "          iw = param.data\n",
        "        #print('param_data', param_data)"
      ],
      "execution_count": null,
      "outputs": []
    },
    {
      "cell_type": "code",
      "metadata": {
        "id": "IJgie01_p8k5"
      },
      "source": [
        "trained_movie_embeddings = model.item_factors.weight.data.cpu().numpy()"
      ],
      "execution_count": null,
      "outputs": []
    },
    {
      "cell_type": "code",
      "metadata": {
        "colab": {
          "base_uri": "https://localhost:8080/"
        },
        "id": "R-_tHZ_E_rub",
        "outputId": "d9af9322-a1f6-49a0-de78-3278f7bcd8d6"
      },
      "source": [
        "len(trained_movie_embeddings) # unique movie factor weights"
      ],
      "execution_count": null,
      "outputs": [
        {
          "output_type": "execute_result",
          "data": {
            "text/plain": [
              "9724"
            ]
          },
          "metadata": {},
          "execution_count": 14
        }
      ]
    },
    {
      "cell_type": "code",
      "metadata": {
        "id": "bl9s4iqXy75q"
      },
      "source": [
        "from sklearn.cluster import KMeans\n",
        "# Fit the clusters based on the movie weights\n",
        "kmeans = KMeans(n_clusters=10, random_state=0).fit(trained_movie_embeddings)"
      ],
      "execution_count": null,
      "outputs": []
    },
    {
      "cell_type": "code",
      "metadata": {
        "colab": {
          "base_uri": "https://localhost:8080/"
        },
        "id": "8MDzp-9u-m5n",
        "outputId": "8afa7140-48ef-4b37-d05f-80e9b0cd001a"
      },
      "source": [
        "'''It can be seen here that the movies that are in the same cluster tend to have\n",
        "similar genres. Also we know that the algorithm is unfamiliar with the movie name\n",
        "and only obtained the relationships by looking at the numbers representing how\n",
        "users have responded to the movie selections.'''\n",
        "for cluster in range(10):\n",
        "  print(\"Cluster #{}\".format(cluster))\n",
        "  movs = []\n",
        "  for movidx in np.where(kmeans.labels_ == cluster)[0]:\n",
        "    movid = train_set.idx2movieid[movidx]\n",
        "    rat_count = ratings_df.loc[ratings_df['movieId']==movid].count()[0]\n",
        "    movs.append((movie_names[movid], rat_count))\n",
        "  for mov in sorted(movs, key=lambda tup: tup[1], reverse=True)[:10]:\n",
        "    print(\"\\t\", mov[0])"
      ],
      "execution_count": null,
      "outputs": [
        {
          "output_type": "stream",
          "name": "stdout",
          "text": [
            "Cluster #0\n",
            "\t Forrest Gump (1994)\n",
            "\t Toy Story (1995)\n",
            "\t Aladdin (1992)\n",
            "\t True Lies (1994)\n",
            "\t Lion King, The (1994)\n",
            "\t Back to the Future (1985)\n",
            "\t Dances with Wolves (1990)\n",
            "\t Beauty and the Beast (1991)\n",
            "\t Mrs. Doubtfire (1993)\n",
            "\t Babe (1995)\n",
            "Cluster #1\n",
            "\t Apollo 13 (1995)\n",
            "\t Batman (1989)\n",
            "\t Men in Black (a.k.a. MIB) (1997)\n",
            "\t Stargate (1994)\n",
            "\t Truman Show, The (1998)\n",
            "\t Austin Powers: The Spy Who Shagged Me (1999)\n",
            "\t Minority Report (2002)\n",
            "\t Clear and Present Danger (1994)\n",
            "\t Jumanji (1995)\n",
            "\t Ferris Bueller's Day Off (1986)\n",
            "Cluster #2\n",
            "\t Batman & Robin (1997)\n",
            "\t Godzilla (1998)\n",
            "\t Superman IV: The Quest for Peace (1987)\n",
            "\t Next Karate Kid, The (1994)\n",
            "\t Rambo III (1988)\n",
            "\t Eragon (2006)\n",
            "\t Problem Child (1990)\n",
            "\t Stop! Or My Mom Will Shoot (1992)\n",
            "\t Animal, The (2001)\n",
            "\t Queen of the Damned (2002)\n",
            "Cluster #3\n",
            "\t Jurassic Park (1993)\n",
            "\t Independence Day (a.k.a. ID4) (1996)\n",
            "\t Speed (1994)\n",
            "\t Mission: Impossible (1996)\n",
            "\t Mask, The (1994)\n",
            "\t Pirates of the Caribbean: The Curse of the Black Pearl (2003)\n",
            "\t Die Hard: With a Vengeance (1995)\n",
            "\t Pretty Woman (1990)\n",
            "\t Dumb & Dumber (Dumb and Dumber) (1994)\n",
            "\t X-Men (2000)\n",
            "Cluster #4\n",
            "\t Ace Ventura: Pet Detective (1994)\n",
            "\t Cliffhanger (1993)\n",
            "\t Nutty Professor, The (1996)\n",
            "\t Starship Troopers (1997)\n",
            "\t Face/Off (1997)\n",
            "\t Patriot, The (2000)\n",
            "\t Tombstone (1993)\n",
            "\t Austin Powers in Goldmember (2002)\n",
            "\t Casper (1995)\n",
            "\t Animal House (1978)\n",
            "Cluster #5\n",
            "\t Star Wars: Episode I - The Phantom Menace (1999)\n",
            "\t Titanic (1997)\n",
            "\t Batman Forever (1995)\n",
            "\t Net, The (1995)\n",
            "\t Harry Potter and the Sorcerer's Stone (a.k.a. Harry Potter and the Philosopher's Stone) (2001)\n",
            "\t Harry Potter and the Chamber of Secrets (2002)\n",
            "\t As Good as It Gets (1997)\n",
            "\t Star Wars: Episode II - Attack of the Clones (2002)\n",
            "\t Game, The (1997)\n",
            "\t Charlie's Angels (2000)\n",
            "Cluster #6\n",
            "\t Lord of the Rings: The Fellowship of the Ring, The (2001)\n",
            "\t Memento (2000)\n",
            "\t Léon: The Professional (a.k.a. The Professional) (Léon) (1994)\n",
            "\t Spider-Man (2002)\n",
            "\t Heat (1995)\n",
            "\t Dr. Strangelove or: How I Learned to Stop Worrying and Love the Bomb (1964)\n",
            "\t Monty Python's Life of Brian (1979)\n",
            "\t Sin City (2005)\n",
            "\t Casino (1995)\n",
            "\t Edward Scissorhands (1990)\n",
            "Cluster #7\n",
            "\t Shawshank Redemption, The (1994)\n",
            "\t Silence of the Lambs, The (1991)\n",
            "\t Matrix, The (1999)\n",
            "\t Star Wars: Episode IV - A New Hope (1977)\n",
            "\t Braveheart (1995)\n",
            "\t Terminator 2: Judgment Day (1991)\n",
            "\t Fight Club (1999)\n",
            "\t Star Wars: Episode V - The Empire Strikes Back (1980)\n",
            "\t Usual Suspects, The (1995)\n",
            "\t Seven (a.k.a. Se7en) (1995)\n",
            "Cluster #8\n",
            "\t Waterworld (1995)\n",
            "\t Bourne Identity, The (2002)\n",
            "\t Interview with the Vampire: The Vampire Chronicles (1994)\n",
            "\t Outbreak (1995)\n",
            "\t Natural Born Killers (1994)\n",
            "\t Meet the Parents (2000)\n",
            "\t Ace Ventura: When Nature Calls (1995)\n",
            "\t Mars Attacks! (1996)\n",
            "\t Interstellar (2014)\n",
            "\t Django Unchained (2012)\n",
            "Cluster #9\n",
            "\t Pulp Fiction (1994)\n",
            "\t Schindler's List (1993)\n",
            "\t American Beauty (1999)\n",
            "\t Godfather, The (1972)\n",
            "\t Fargo (1996)\n",
            "\t Monty Python and the Holy Grail (1975)\n",
            "\t Kill Bill: Vol. 1 (2003)\n",
            "\t Eternal Sunshine of the Spotless Mind (2004)\n",
            "\t Godfather: Part II, The (1974)\n",
            "\t Blade Runner (1982)\n"
          ]
        }
      ]
    }
  ]
}